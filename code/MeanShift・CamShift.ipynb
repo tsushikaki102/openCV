{
 "cells": [
  {
   "cell_type": "code",
   "execution_count": 1,
   "metadata": {},
   "outputs": [],
   "source": [
    "import cv2"
   ]
  },
  {
   "cell_type": "code",
   "execution_count": 2,
   "metadata": {},
   "outputs": [],
   "source": [
    "cap = cv2.VideoCapture(\"movie/Cruse.mp4\")\n",
    "ret, frame = cap.read()\n",
    "h, w, ch = frame.shape"
   ]
  },
  {
   "cell_type": "code",
   "execution_count": 3,
   "metadata": {},
   "outputs": [],
   "source": [
    "rct = (600, 500, 200, 200)\n",
    "cv2.namedWindow(\"win\", cv2.WINDOW_NORMAL)\n",
    "cv2.resizeWindow(\"win\", 1200, 800)\n",
    "cri = (cv2.TERM_CRITERIA_COUNT | cv2.TERM_CRITERIA_EPS, 10, 1)\n",
    "while(True):\n",
    "    threshold = 100 \n",
    "    ret, frame = cap.read()\n",
    "    if ret == False:\n",
    "        break\n",
    "    img_g = cv2.cvtColor(frame, cv2.COLOR_BGR2GRAY)\n",
    "    ret, img_bin = cv2.threshold(img_g, threshold, 255, cv2.THRESH_BINARY)\n",
    "    ret, rct = cv2.CamShift(img_bin, rct, cri)\n",
    "    x, y, w, h = rct\n",
    "    frame = cv2.rectangle(frame, (x,y), (x+w, y+h), (255,0,0),3)\n",
    "    cv2.imshow(\"win\",frame)\n",
    "    if cv2.waitKey(10) == 27:\n",
    "        break\n",
    "cv2.destroyAllWindows()"
   ]
  },
  {
   "cell_type": "code",
   "execution_count": null,
   "metadata": {
    "collapsed": true
   },
   "outputs": [],
   "source": []
  }
 ],
 "metadata": {
  "kernelspec": {
   "display_name": "Python 3",
   "language": "python",
   "name": "python3"
  },
  "language_info": {
   "codemirror_mode": {
    "name": "ipython",
    "version": 3
   },
   "file_extension": ".py",
   "mimetype": "text/x-python",
   "name": "python",
   "nbconvert_exporter": "python",
   "pygments_lexer": "ipython3",
   "version": "3.5.5"
  }
 },
 "nbformat": 4,
 "nbformat_minor": 2
}
