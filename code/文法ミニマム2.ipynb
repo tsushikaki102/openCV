{
 "cells": [
  {
   "cell_type": "code",
   "execution_count": 1,
   "metadata": {
    "collapsed": true
   },
   "outputs": [],
   "source": [
    "import numpy as np\n",
    "import random\n",
    "import matplotlib.pyplot as plt\n",
    "import os\n",
    "%matplotlib inline"
   ]
  },
  {
   "cell_type": "code",
   "execution_count": 3,
   "metadata": {},
   "outputs": [],
   "source": [
    "os.mkdir(\"test2\")"
   ]
  },
  {
   "cell_type": "code",
   "execution_count": 4,
   "metadata": {},
   "outputs": [
    {
     "data": {
      "text/plain": [
       "['.ipynb_checkpoints',\n",
       " '2値化+トラックバー.ipynb',\n",
       " '2値化.ipynb',\n",
       " '978-4-87783-346-6',\n",
       " '978-4-87783-346-6.zip',\n",
       " 'Aerobatics_4.zip',\n",
       " 'affine.ipynb',\n",
       " 'AKAZE.ipynb',\n",
       " 'AKAZE2.ipynb',\n",
       " 'Blob.ipynb',\n",
       " 'Blob.pptx',\n",
       " 'calc_Money.ipynb',\n",
       " 'Canny.ipynb',\n",
       " 'Convolution.ipynb',\n",
       " 'detectCorner.ipynb',\n",
       " 'DoG.ipynb',\n",
       " 'edge_sample.png',\n",
       " 'fig.png',\n",
       " 'Filter_2D.ipynb',\n",
       " 'findContour.ipynb',\n",
       " 'gamma.py',\n",
       " 'gamma変換.ipynb',\n",
       " 'gauss関数.ipynb',\n",
       " 'gazou.png',\n",
       " 'hike_AKAZE.jpg',\n",
       " 'hike_blur.jpg',\n",
       " 'hike_canny.jpg',\n",
       " 'hike_g.jpg',\n",
       " 'hike_lap.jpg',\n",
       " 'hist.png',\n",
       " 'Histogram.ipynb',\n",
       " 'Hough変換.ipynb',\n",
       " 'HSV.ipynb',\n",
       " 'HSV_color.ipynb',\n",
       " 'Jupyter',\n",
       " 'kNN.ipynb',\n",
       " 'Laplacian_Canny.ipynb',\n",
       " 'lecture',\n",
       " 'MasteringComputerVision_V1.01',\n",
       " 'MasteringComputerVision_V1.01.zip',\n",
       " 'MeanShift.ipynb',\n",
       " 'mean_shift.png',\n",
       " 'Mobi1.png',\n",
       " 'Mobi2.png',\n",
       " 'MoG2.ipynb',\n",
       " 'MouseEvent.ipynb',\n",
       " 'mouse_eve.py',\n",
       " 'movie',\n",
       " 'movie2',\n",
       " 'Opening_Closing.ipynb',\n",
       " 'OpticalFlow.ipynb',\n",
       " 'opt_sample.ipynb',\n",
       " 'ORB・KAZE.ipynb',\n",
       " 'output',\n",
       " 'output.jpg',\n",
       " 'powerpoint',\n",
       " 'random2.py',\n",
       " 'result',\n",
       " 'self_blur.jpg',\n",
       " 'self_canny.jpg',\n",
       " 'self_KAZE.jpg',\n",
       " 'SIFT.ipynb',\n",
       " 'Snow-falling-video-slow-motion.zip',\n",
       " 'src',\n",
       " 'src2',\n",
       " 'template.png',\n",
       " 'test',\n",
       " 'test2',\n",
       " 'text.docx',\n",
       " 'text_mod.jpg',\n",
       " 'tone.png',\n",
       " 'track.py',\n",
       " 'trial.ipynb',\n",
       " 'trial.py',\n",
       " 'txtDetection2.ipynb',\n",
       " 'txt_detect.py',\n",
       " 'txt_detection.ipynb',\n",
       " 'Untitled.ipynb',\n",
       " 'untitled.txt',\n",
       " 'Untitled1.ipynb',\n",
       " 'untitled1.txt',\n",
       " 'Untitled2.ipynb',\n",
       " 'Untitled5.ipynb',\n",
       " '__pycache__',\n",
       " 'アファイン変換.ipynb',\n",
       " 'イメージピラミッド.ipynb',\n",
       " 'インペイント.ipynb',\n",
       " 'インペイント２.ipynb',\n",
       " 'ウインドウの調整.ipynb',\n",
       " 'エッジの検出.ipynb',\n",
       " 'エッジの検出2.ipynb',\n",
       " 'エッジの検出＿テスト.ipynb',\n",
       " 'オプティカルフロー.ipynb',\n",
       " 'グレースケール・色空間.ipynb',\n",
       " 'テンプレートマッチング.ipynb',\n",
       " 'トラック2.ipynb',\n",
       " 'トラックバー.ipynb',\n",
       " 'トラックバーの作成.ipynb',\n",
       " 'パーティクルフィルタ.ipynb',\n",
       " 'ヒストグラム均一化.ipynb',\n",
       " 'ブラー処理.ipynb',\n",
       " 'ブロブの検出.ipynb',\n",
       " 'マウスイベント.ipynb',\n",
       " 'モルフォロジー演算.ipynb',\n",
       " '二値化.ipynb',\n",
       " '動画の表示・出力.ipynb',\n",
       " '動画の読み込み.ipynb',\n",
       " '図形の描画.ipynb',\n",
       " '図形を描く.ipynb',\n",
       " '必要な文法1.ipynb',\n",
       " '必要な文法2.ipynb',\n",
       " '文法ミニマム1.ipynb',\n",
       " '文法ミニマム2.ipynb',\n",
       " '演習1.ipynb',\n",
       " '特徴抽出.ipynb',\n",
       " '画像のリサイズ.ipynb',\n",
       " '画像の入出力.ipynb',\n",
       " '画像の表示・出力.ipynb',\n",
       " '画像処理の基礎知識.ipynb',\n",
       " '畳み込み用のサンプル.ipynb',\n",
       " '直線・円の検出.ipynb',\n",
       " '背景差分.ipynb',\n",
       " '色検出.ipynb',\n",
       " '講義パワポ',\n",
       " '透視変換.ipynb',\n",
       " '透視変換2.ipynb',\n",
       " '顔検出.ipynb']"
      ]
     },
     "execution_count": 4,
     "metadata": {},
     "output_type": "execute_result"
    }
   ],
   "source": [
    "os.listdir()"
   ]
  },
  {
   "cell_type": "code",
   "execution_count": 5,
   "metadata": {
    "collapsed": true
   },
   "outputs": [],
   "source": [
    "num_arr = np.array([1,2,3,4,5])"
   ]
  },
  {
   "cell_type": "code",
   "execution_count": 6,
   "metadata": {},
   "outputs": [
    {
     "data": {
      "text/plain": [
       "array([1, 2, 3, 4, 5])"
      ]
     },
     "execution_count": 6,
     "metadata": {},
     "output_type": "execute_result"
    }
   ],
   "source": [
    "num_arr"
   ]
  },
  {
   "cell_type": "code",
   "execution_count": 7,
   "metadata": {
    "collapsed": true
   },
   "outputs": [],
   "source": [
    "num_arr2 = np.ones(5)"
   ]
  },
  {
   "cell_type": "code",
   "execution_count": 8,
   "metadata": {},
   "outputs": [
    {
     "data": {
      "text/plain": [
       "array([ 1.,  1.,  1.,  1.,  1.])"
      ]
     },
     "execution_count": 8,
     "metadata": {},
     "output_type": "execute_result"
    }
   ],
   "source": [
    "num_arr2"
   ]
  },
  {
   "cell_type": "code",
   "execution_count": 9,
   "metadata": {
    "collapsed": true
   },
   "outputs": [],
   "source": [
    "num_arr3 = np.zeros((4,4))"
   ]
  },
  {
   "cell_type": "code",
   "execution_count": 10,
   "metadata": {},
   "outputs": [
    {
     "data": {
      "text/plain": [
       "array([[ 0.,  0.,  0.,  0.],\n",
       "       [ 0.,  0.,  0.,  0.],\n",
       "       [ 0.,  0.,  0.,  0.],\n",
       "       [ 0.,  0.,  0.,  0.]])"
      ]
     },
     "execution_count": 10,
     "metadata": {},
     "output_type": "execute_result"
    }
   ],
   "source": [
    "num_arr3"
   ]
  },
  {
   "cell_type": "code",
   "execution_count": 11,
   "metadata": {},
   "outputs": [
    {
     "data": {
      "text/plain": [
       "array([ 2.,  3.,  4.,  5.,  6.])"
      ]
     },
     "execution_count": 11,
     "metadata": {},
     "output_type": "execute_result"
    }
   ],
   "source": [
    "num_arr + num_arr2"
   ]
  },
  {
   "cell_type": "code",
   "execution_count": 12,
   "metadata": {},
   "outputs": [
    {
     "data": {
      "text/plain": [
       "(4, 4)"
      ]
     },
     "execution_count": 12,
     "metadata": {},
     "output_type": "execute_result"
    }
   ],
   "source": [
    "num_arr3.shape"
   ]
  },
  {
   "cell_type": "code",
   "execution_count": 13,
   "metadata": {
    "collapsed": true
   },
   "outputs": [],
   "source": [
    "a, b = num_arr3.shape"
   ]
  },
  {
   "cell_type": "code",
   "execution_count": 14,
   "metadata": {},
   "outputs": [
    {
     "data": {
      "text/plain": [
       "4"
      ]
     },
     "execution_count": 14,
     "metadata": {},
     "output_type": "execute_result"
    }
   ],
   "source": [
    "a"
   ]
  },
  {
   "cell_type": "code",
   "execution_count": 15,
   "metadata": {},
   "outputs": [
    {
     "data": {
      "text/plain": [
       "4"
      ]
     },
     "execution_count": 15,
     "metadata": {},
     "output_type": "execute_result"
    }
   ],
   "source": [
    "b"
   ]
  },
  {
   "cell_type": "code",
   "execution_count": 16,
   "metadata": {},
   "outputs": [
    {
     "data": {
      "text/plain": [
       "array([0, 1, 2, 3, 4, 5, 6, 7, 8])"
      ]
     },
     "execution_count": 16,
     "metadata": {},
     "output_type": "execute_result"
    }
   ],
   "source": [
    "np.arange(9)"
   ]
  },
  {
   "cell_type": "code",
   "execution_count": 17,
   "metadata": {},
   "outputs": [
    {
     "data": {
      "text/plain": [
       "array([0, 0, 0, 0, 0])"
      ]
     },
     "execution_count": 17,
     "metadata": {},
     "output_type": "execute_result"
    }
   ],
   "source": [
    "np.where(num_arr2 > 1, 1, 0)"
   ]
  },
  {
   "cell_type": "code",
   "execution_count": 18,
   "metadata": {},
   "outputs": [
    {
     "data": {
      "text/plain": [
       "1"
      ]
     },
     "execution_count": 18,
     "metadata": {},
     "output_type": "execute_result"
    }
   ],
   "source": [
    "random.choice([1,2,3])"
   ]
  },
  {
   "cell_type": "code",
   "execution_count": 19,
   "metadata": {},
   "outputs": [
    {
     "data": {
      "text/plain": [
       "2"
      ]
     },
     "execution_count": 19,
     "metadata": {},
     "output_type": "execute_result"
    }
   ],
   "source": [
    "random.choice([1,2,3])"
   ]
  },
  {
   "cell_type": "code",
   "execution_count": 20,
   "metadata": {},
   "outputs": [
    {
     "data": {
      "text/plain": [
       "3"
      ]
     },
     "execution_count": 20,
     "metadata": {},
     "output_type": "execute_result"
    }
   ],
   "source": [
    "random.choice([1,2,3])"
   ]
  },
  {
   "cell_type": "code",
   "execution_count": 21,
   "metadata": {},
   "outputs": [
    {
     "data": {
      "text/plain": [
       "2"
      ]
     },
     "execution_count": 21,
     "metadata": {},
     "output_type": "execute_result"
    }
   ],
   "source": [
    "random.choice([1,2,3])"
   ]
  },
  {
   "cell_type": "code",
   "execution_count": 22,
   "metadata": {},
   "outputs": [
    {
     "data": {
      "text/plain": [
       "[<matplotlib.lines.Line2D at 0x1f5dc65d780>]"
      ]
     },
     "execution_count": 22,
     "metadata": {},
     "output_type": "execute_result"
    },
    {
     "data": {
      "image/png": "[encoded data removed]",
      "text/plain": [
       "<matplotlib.figure.Figure at 0x1f5dc5bb160>"
      ]
     },
     "metadata": {},
     "output_type": "display_data"
    }
   ],
   "source": [
    "x = np.arange(0, 10, 0.01)\n",
    "y = np.sin(x)\n",
    "plt.plot(x,y)"
   ]
  },
  {
   "cell_type": "code",
   "execution_count": 23,
   "metadata": {},
   "outputs": [
    {
     "data": {
      "text/plain": [
       "array([1, 2, 5, 3, 8])"
      ]
     },
     "execution_count": 23,
     "metadata": {},
     "output_type": "execute_result"
    }
   ],
   "source": [
    "np.random.randint(10, size=5)"
   ]
  },
  {
   "cell_type": "code",
   "execution_count": null,
   "metadata": {
    "collapsed": true
   },
   "outputs": [],
   "source": []
  }
 ],
 "metadata": {
  "kernelspec": {
   "display_name": "Python 3",
   "language": "python",
   "name": "python3"
  },
  "language_info": {
   "codemirror_mode": {
    "name": "ipython",
    "version": 3
   },
   "file_extension": ".py",
   "mimetype": "text/x-python",
   "name": "python",
   "nbconvert_exporter": "python",
   "pygments_lexer": "ipython3",
   "version": "3.6.2"
  }
 },
 "nbformat": 4,
 "nbformat_minor": 2
}
