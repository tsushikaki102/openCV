{
 "cells": [
  {
   "cell_type": "code",
   "execution_count": 1,
   "metadata": {},
   "outputs": [],
   "source": [
    "import cv2\n",
    "import sys"
   ]
  },
  {
   "cell_type": "code",
   "execution_count": 2,
   "metadata": {},
   "outputs": [],
   "source": [
    "cap = cv2.VideoCapture(\"movie/Cosmos.mp4\")\n",
    "#動画が読み込めているか確認してよみこめていなかったらぬける\n",
    "if cap.isOpened() == False: \n",
    "    sys.exit()\n",
    "    \n",
    "#retはboolで読み込めていたらTrue, frameは読み込んだ画像\n",
    "ret, frame = cap.read()#.readは動画中の１フレームをよみこむ\n",
    "h, w = frame.shape[:2] #h,wの順番に注意、色の部分はいらないため[:2]\n",
    "\n",
    "#書き込みのモードを選択と書き込み\n",
    "fourcc = cv2.VideoWriter_fourcc(*\"XVID\")\n",
    "dst = cv2.VideoWriter(\"output/test.avi\", fourcc, 30.0, (w,h))\n",
    "\n",
    "#ここから表示をプログラム\n",
    "#もう一度読み込みを確認\n",
    "while True:\n",
    "    ret, frame = cap.read()\n",
    "    if ret == False:\n",
    "        break\n",
    "    cv2.imshow(\"img\", frame)\n",
    "    dst.write(frame)\n",
    "    #エスケープキーを押すと抜ける\n",
    "    if cv2.waitKey(30) == 27: #27はエスケープキーに対応している\n",
    "        break\n",
    "cv2.destroyAllWindows()\n",
    "cap.release()"
   ]
  },
  {
   "cell_type": "code",
   "execution_count": null,
   "metadata": {},
   "outputs": [],
   "source": []
  }
 ],
 "metadata": {
  "kernelspec": {
   "display_name": "Python 3",
   "language": "python",
   "name": "python3"
  },
  "language_info": {
   "codemirror_mode": {
    "name": "ipython",
    "version": 3
   },
   "file_extension": ".py",
   "mimetype": "text/x-python",
   "name": "python",
   "nbconvert_exporter": "python",
   "pygments_lexer": "ipython3",
   "version": "3.6.12"
  }
 },
 "nbformat": 4,
 "nbformat_minor": 2
}
