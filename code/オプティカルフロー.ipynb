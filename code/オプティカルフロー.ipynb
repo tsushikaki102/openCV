{
 "cells": [
  {
   "cell_type": "code",
   "execution_count": 1,
   "metadata": {
    "collapsed": true
   },
   "outputs": [],
   "source": [
    "import cv2"
   ]
  },
  {
   "cell_type": "code",
   "execution_count": 2,
   "metadata": {
    "collapsed": true
   },
   "outputs": [],
   "source": [
    "cv2.namedWindow(\"img\", cv2.WINDOW_NORMAL)\n",
    "cv2.resizeWindow(\"img\", 1200, 800)\n",
    "COUNT = 500\n",
    "criteria = (cv2.TERM_CRITERIA_MAX_ITER | cv2.TERM_CRITERIA_EPS, 20, 0.03)\n",
    "lk_params = dict(winSize=(10,10), maxLevel=4, criteria=criteria)\n",
    "cap = cv2.VideoCapture(\"movie/Cosmos.mp4\")\n",
    "ret, frame = cap.read()\n",
    "frame_pre = cv2.cvtColor(frame, cv2.COLOR_BGR2GRAY)\n",
    "while True:\n",
    "    ret, frame = cap.read()\n",
    "    if ret == False:\n",
    "        break\n",
    "    frame_now = cv2.cvtColor(frame, cv2.COLOR_BGR2GRAY)\n",
    "    feature_pre = cv2.goodFeaturesToTrack(frame_pre, COUNT, 0.001, 5)\n",
    "    if feature_pre is None:\n",
    "        continue\n",
    "    feature_now, status, err = cv2.calcOpticalFlowPyrLK(frame_pre, frame_now, feature_pre, None, **lk_params)\n",
    "    for i in range(COUNT):\n",
    "        pre_x = feature_pre[i][0][0]\n",
    "        pre_y = feature_pre[i][0][1]\n",
    "        now_x = feature_now[i][0][0]\n",
    "        now_y = feature_now[i][0][1]\n",
    "        cv2.line(frame, (pre_x, pre_y), (now_x, now_y), (255,0,0), 3)\n",
    "    cv2.imshow(\"img\", frame)\n",
    "    frame_pre = frame_now.copy()\n",
    "    if cv2.waitKey(10) == 27:\n",
    "        break\n",
    "cv2.destroyAllWindows()"
   ]
  },
  {
   "cell_type": "code",
   "execution_count": null,
   "metadata": {
    "collapsed": true
   },
   "outputs": [],
   "source": []
  }
 ],
 "metadata": {
  "kernelspec": {
   "display_name": "Python 3",
   "language": "python",
   "name": "python3"
  },
  "language_info": {
   "codemirror_mode": {
    "name": "ipython",
    "version": 3
   },
   "file_extension": ".py",
   "mimetype": "text/x-python",
   "name": "python",
   "nbconvert_exporter": "python",
   "pygments_lexer": "ipython3",
   "version": "3.5.4"
  }
 },
 "nbformat": 4,
 "nbformat_minor": 2
}
