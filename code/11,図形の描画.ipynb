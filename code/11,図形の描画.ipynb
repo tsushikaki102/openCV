{
 "cells": [
  {
   "cell_type": "code",
   "execution_count": 1,
   "metadata": {},
   "outputs": [],
   "source": [
    "import cv2\n",
    "import numpy as np"
   ]
  },
  {
   "cell_type": "code",
   "execution_count": 4,
   "metadata": {},
   "outputs": [],
   "source": [
    "img = np.ones((500,500,3),dtype=np.uint8) * 255#背景を白にする\n",
    "\n",
    "cv2.line(img, (0,0), (150,190), (255, 0, 0), 2)#直線　（始点、終点、色、線の太さ）\n",
    "cv2.rectangle(img, (100,25), (300, 150), (0, 255, 0), 4)#四角形　（始点、対角の点、色、太さ）\n",
    "cv2.circle(img, (100,100), 55, (0, 0, 255), -1)#円　（中心、半径、色、太さ（－１だと塗りつぶし））\n",
    "cv2.ellipse(img, (250, 250), (100, 50), 20, 0, 360, (255, 0, 0), 1)#楕円　（中心、（長軸、短軸）、回転角、色、太さ）\n",
    "\n",
    "pts = np.array([[100, 30], [200, 30], [200, 80], [100, 50]])\n",
    "cv2.polylines(img, [pts], False, (100, 255, 0), 3)# 折れ線　（第三引数は最初の点と最後の点をつなぐか）\n",
    "\n",
    "font = cv2.FONT_HERSHEY_SIMPLEX\n",
    "cv2.putText(img, \"OpenCV\", (100, 300), font,1, (0,255,0), lineType=cv2.LINE_AA)#文字を入れる\n",
    "\n",
    "\n",
    "cv2.imshow(\"img\", img)\n",
    "cv2.waitKey(0)\n",
    "cv2.destroyAllWindows()"
   ]
  },
  {
   "cell_type": "code",
   "execution_count": null,
   "metadata": {},
   "outputs": [],
   "source": []
  },
  {
   "cell_type": "code",
   "execution_count": null,
   "metadata": {},
   "outputs": [],
   "source": []
  }
 ],
 "metadata": {
  "kernelspec": {
   "display_name": "Python 3",
   "language": "python",
   "name": "python3"
  },
  "language_info": {
   "codemirror_mode": {
    "name": "ipython",
    "version": 3
   },
   "file_extension": ".py",
   "mimetype": "text/x-python",
   "name": "python",
   "nbconvert_exporter": "python",
   "pygments_lexer": "ipython3",
   "version": "3.6.12"
  }
 },
 "nbformat": 4,
 "nbformat_minor": 2
}
