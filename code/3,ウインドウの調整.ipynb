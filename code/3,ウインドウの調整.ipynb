{
 "cells": [
  {
   "cell_type": "code",
   "execution_count": 1,
   "metadata": {},
   "outputs": [],
   "source": [
    "import cv2"
   ]
  },
  {
   "cell_type": "code",
   "execution_count": null,
   "metadata": {},
   "outputs": [],
   "source": [
    "#cv2.namedWindow\n",
    "# ウィンドウの表示形式の設定\n",
    "# 第一引数：ウィンドウを識別するための名前\n",
    "# 第二引数：ウィンドウの表示形式\n",
    "# cv2.WINDOW_AUTOSIZE：デフォルト。ウィンドウ固定表示\n",
    "# cv2.WINDOW_NORMAL：ウィンドウのサイズを変更可能にする"
   ]
  },
  {
   "cell_type": "code",
   "execution_count": 2,
   "metadata": {},
   "outputs": [],
   "source": [
    "img = cv2.imread(\"src/Lena.jpg\")\n",
    "cv2.namedWindow(\"window\", cv2.WINDOW_AUTOSIZE)\n",
    "cv2.imshow(\"window\", img)\n",
    "cv2.waitKey(0)\n",
    "cv2.destroyAllWindows()"
   ]
  },
  {
   "cell_type": "code",
   "execution_count": 3,
   "metadata": {},
   "outputs": [],
   "source": [
    "img = cv2.imread(\"src/Lena.jpg\")\n",
    "cv2.namedWindow(\"window\", cv2.WINDOW_NORMAL)\n",
    "cv2.imshow(\"window\", img)\n",
    "cv2.waitKey(0)\n",
    "cv2.destroyAllWindows()"
   ]
  },
  {
   "cell_type": "code",
   "execution_count": 4,
   "metadata": {},
   "outputs": [],
   "source": [
    "#サイズの変更\n",
    "\n",
    "img = cv2.imread(\"src/Lena.jpg\")\n",
    "cv2.namedWindow(\"window\", cv2.WINDOW_NORMAL)\n",
    "cv2.resizeWindow(\"window\", 640, 480)#第二引数はサイズの指定\n",
    "cv2.imshow(\"window\", img)\n",
    "cv2.waitKey(0)\n",
    "cv2.destroyAllWindows()"
   ]
  },
  {
   "cell_type": "code",
   "execution_count": null,
   "metadata": {
    "collapsed": true
   },
   "outputs": [],
   "source": []
  }
 ],
 "metadata": {
  "kernelspec": {
   "display_name": "Python 3",
   "language": "python",
   "name": "python3"
  },
  "language_info": {
   "codemirror_mode": {
    "name": "ipython",
    "version": 3
   },
   "file_extension": ".py",
   "mimetype": "text/x-python",
   "name": "python",
   "nbconvert_exporter": "python",
   "pygments_lexer": "ipython3",
   "version": "3.6.12"
  }
 },
 "nbformat": 4,
 "nbformat_minor": 2
}
