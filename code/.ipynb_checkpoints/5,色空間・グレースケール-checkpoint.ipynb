{
 "cells": [
  {
   "cell_type": "code",
   "execution_count": 1,
   "metadata": {},
   "outputs": [],
   "source": [
    "import cv2"
   ]
  },
  {
   "cell_type": "code",
   "execution_count": 2,
   "metadata": {},
   "outputs": [],
   "source": [
    "#グレースケールは色の強度を表す情報でありRGBなどを一つの数値にしたもの、二値化する際の指標であったり計算量を少なくするメリットがある\n",
    "#色空間HSVやRGB"
   ]
  },
  {
   "cell_type": "code",
   "execution_count": 3,
   "metadata": {},
   "outputs": [],
   "source": [
    "img = cv2.imread(\"src/grapes.jpg\")\n",
    "#cvtColor = convert color\n",
    "img_gray = cv2.cvtColor(img, cv2.COLOR_BGR2GRAY)#BGR -> GRAY\n",
    "img_hsv = cv2.cvtColor(img, cv2.COLOR_BGR2HSV)#BGR -> HSV"
   ]
  },
  {
   "cell_type": "code",
   "execution_count": 4,
   "metadata": {},
   "outputs": [
    {
     "data": {
      "text/plain": [
       "(640, 960)"
      ]
     },
     "execution_count": 4,
     "metadata": {},
     "output_type": "execute_result"
    }
   ],
   "source": [
    "img_gray.shape"
   ]
  },
  {
   "cell_type": "code",
   "execution_count": 5,
   "metadata": {},
   "outputs": [
    {
     "data": {
      "text/plain": [
       "(640, 960, 3)"
      ]
     },
     "execution_count": 5,
     "metadata": {},
     "output_type": "execute_result"
    }
   ],
   "source": [
    "img_hsv.shape"
   ]
  },
  {
   "cell_type": "code",
   "execution_count": 6,
   "metadata": {},
   "outputs": [],
   "source": [
    "cv2.imshow(\"img\", img)\n",
    "cv2.imshow(\"gray\", img_gray)\n",
    "cv2.waitKey(0)\n",
    "cv2.destroyAllWindows()"
   ]
  },
  {
   "cell_type": "code",
   "execution_count": 7,
   "metadata": {},
   "outputs": [],
   "source": [
    "img_gray2 = cv2.imread(\"src/grapes.jpg\", 0)#grayスケールへの簡単な変換（imread()の第二引数に０をいれる）"
   ]
  },
  {
   "cell_type": "code",
   "execution_count": 8,
   "metadata": {},
   "outputs": [],
   "source": [
    "cv2.imshow(\"gray\", img_gray2)\n",
    "cv2.waitKey(0)\n",
    "cv2.destroyAllWindows()"
   ]
  },
  {
   "cell_type": "code",
   "execution_count": 9,
   "metadata": {},
   "outputs": [
    {
     "data": {
      "text/plain": [
       "array([[[ 46, 138, 175],\n",
       "        [ 46, 152, 159],\n",
       "        [ 45, 128, 177],\n",
       "        ...,\n",
       "        [105, 151, 233],\n",
       "        [104, 148, 228],\n",
       "        [104, 149, 222]],\n",
       "\n",
       "       [[ 46, 181, 134],\n",
       "        [ 45, 198, 121],\n",
       "        [ 45, 168, 141],\n",
       "        ...,\n",
       "        [104, 157, 213],\n",
       "        [104, 155, 214],\n",
       "        [104, 158, 211]],\n",
       "\n",
       "       [[ 45, 193, 127],\n",
       "        [ 45, 215, 114],\n",
       "        [ 44, 200, 125],\n",
       "        ...,\n",
       "        [103, 172, 173],\n",
       "        [103, 167, 194],\n",
       "        [103, 168, 202]],\n",
       "\n",
       "       ...,\n",
       "\n",
       "       [[ 39, 249,  45],\n",
       "        [ 38, 255,  46],\n",
       "        [ 38, 250,  52],\n",
       "        ...,\n",
       "        [ 33, 112, 196],\n",
       "        [ 32, 110, 190],\n",
       "        [ 31, 108, 187]],\n",
       "\n",
       "       [[ 39, 255,  49],\n",
       "        [ 38, 250,  52],\n",
       "        [ 39, 234,  60],\n",
       "        ...,\n",
       "        [ 35, 108, 206],\n",
       "        [ 34, 102, 205],\n",
       "        [ 33, 107, 188]],\n",
       "\n",
       "       [[ 38, 250,  52],\n",
       "        [ 38, 233,  58],\n",
       "        [ 39, 218,  68],\n",
       "        ...,\n",
       "        [ 36, 114, 193],\n",
       "        [ 35, 107, 196],\n",
       "        [ 34, 103, 196]]], dtype=uint8)"
      ]
     },
     "execution_count": 9,
     "metadata": {},
     "output_type": "execute_result"
    }
   ],
   "source": [
    "img_hsv"
   ]
  },
  {
   "cell_type": "code",
   "execution_count": null,
   "metadata": {},
   "outputs": [],
   "source": []
  }
 ],
 "metadata": {
  "kernelspec": {
   "display_name": "Python 3",
   "language": "python",
   "name": "python3"
  },
  "language_info": {
   "codemirror_mode": {
    "name": "ipython",
    "version": 3
   },
   "file_extension": ".py",
   "mimetype": "text/x-python",
   "name": "python",
   "nbconvert_exporter": "python",
   "pygments_lexer": "ipython3",
   "version": "3.6.12"
  }
 },
 "nbformat": 4,
 "nbformat_minor": 2
}
