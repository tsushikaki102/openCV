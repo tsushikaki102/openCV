{
 "cells": [
  {
   "cell_type": "code",
   "execution_count": 1,
   "metadata": {},
   "outputs": [],
   "source": [
    "import numpy as np\n",
    "import cv2"
   ]
  },
  {
   "cell_type": "code",
   "execution_count": 3,
   "metadata": {},
   "outputs": [
    {
     "name": "stdout",
     "output_type": "stream",
     "text": [
      "416 270\n"
     ]
    }
   ],
   "source": [
    "#マウスを左ダブルクリックした時にクリックした場所の座標を表示させる\n",
    "def print_position(event, x, y, flags, param):\n",
    "    if event == cv2.EVENT_LBUTTONDBLCLK:#EVENT_LBUTTONDLCLK（左ダブルクリック）が起きた時\n",
    "        print(x,y)\n",
    "img = np.zeros((512,512), np.uint8)\n",
    "cv2.namedWindow(\"img\")\n",
    "cv2.setMouseCallback(\"img\", print_position)#マウスのイベント情報取得（ウィンドウ、行う処理）\n",
    "cv2.imshow(\"img\", img)\n",
    "cv2.waitKey(0)\n",
    "cv2.destroyAllWindows()"
   ]
  },
  {
   "cell_type": "code",
   "execution_count": null,
   "metadata": {},
   "outputs": [],
   "source": []
  }
 ],
 "metadata": {
  "kernelspec": {
   "display_name": "Python 3",
   "language": "python",
   "name": "python3"
  },
  "language_info": {
   "codemirror_mode": {
    "name": "ipython",
    "version": 3
   },
   "file_extension": ".py",
   "mimetype": "text/x-python",
   "name": "python",
   "nbconvert_exporter": "python",
   "pygments_lexer": "ipython3",
   "version": "3.6.12"
  }
 },
 "nbformat": 4,
 "nbformat_minor": 2
}
